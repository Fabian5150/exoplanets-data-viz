{
 "cells": [
  {
   "cell_type": "code",
   "id": "eff898b0c4e50d25",
   "metadata": {
    "ExecuteTime": {
     "end_time": "2025-02-21T15:12:56.435014Z",
     "start_time": "2025-02-21T15:12:54.877221Z"
    }
   },
   "source": [
    "import pandas as pd\n",
    "import numpy as np\n",
    "\n",
    "# Cargar datos\n",
    "file_path = \"../data/nasa.csv\"\n",
    "df = pd.read_csv(file_path, low_memory=False)\n",
    "print(\"Datos cargados. Tamaño inicial:\", df.shape)"
   ],
   "outputs": [
    {
     "name": "stdout",
     "output_type": "stream",
     "text": [
      "Datos cargados. Tamaño inicial: (38095, 288)\n"
     ]
    }
   ],
   "execution_count": 10
  },
  {
   "metadata": {
    "ExecuteTime": {
     "end_time": "2025-02-21T15:13:07.292139Z",
     "start_time": "2025-02-21T15:13:07.268547Z"
    }
   },
   "cell_type": "code",
   "source": [
    "\n",
    "# Seleccionar columnas clave para la habitabilidad\n",
    "relevant_columns = ['pl_name', 'hostname', 'pl_orbper', 'pl_orbsmax', 'pl_orbeccen',\n",
    "                    'pl_rade', 'pl_bmasse', 'pl_insol', 'pl_eqt',\n",
    "                    'st_teff', 'st_rad', 'st_mass', 'st_met', 'discoverymethod', 'disc_year', 'pl_refname']\n",
    "df = df[relevant_columns]\n",
    "print(\"Selección de columnas clave completada. Tamaño actual:\", df.shape)"
   ],
   "id": "ef7530452c20634",
   "outputs": [
    {
     "name": "stdout",
     "output_type": "stream",
     "text": [
      "Selección de columnas clave completada. Tamaño actual: (38095, 16)\n"
     ]
    }
   ],
   "execution_count": 11
  },
  {
   "metadata": {
    "ExecuteTime": {
     "end_time": "2025-02-21T15:13:26.264193Z",
     "start_time": "2025-02-21T15:13:20.421505Z"
    }
   },
   "cell_type": "code",
   "source": [
    "\n",
    "# Mostrar ejemplos antes de la unificación\n",
    "print(\"Ejemplos antes de la unificación:\")\n",
    "print(df[df['pl_name'].duplicated(keep=False)].head(6))\n",
    "\n",
    "# Agrupar por el nombre del exoplaneta para unificar datos duplicados\n",
    "def merge_numeric(series):\n",
    "    return series.dropna().mean() if not series.dropna().empty else np.nan\n",
    "\n",
    "def merge_categorical(series):\n",
    "    return ', '.join(series.dropna().unique()) if not series.dropna().empty else np.nan\n",
    "\n",
    "aggregation_functions = {\n",
    "    'hostname': merge_categorical,\n",
    "    'pl_orbper': merge_numeric,\n",
    "    'pl_orbsmax': merge_numeric,\n",
    "    'pl_orbeccen': merge_numeric,\n",
    "    'pl_rade': merge_numeric,\n",
    "    'pl_bmasse': merge_numeric,\n",
    "    'pl_insol': merge_numeric,\n",
    "    'pl_eqt': merge_numeric,\n",
    "    'st_teff': merge_numeric,\n",
    "    'st_rad': merge_numeric,\n",
    "    'st_mass': merge_numeric,\n",
    "    'st_met': merge_numeric,\n",
    "    'discoverymethod': merge_categorical,\n",
    "    'disc_year': 'max',  # Mantener el año más reciente\n",
    "    'pl_refname': merge_categorical\n",
    "}\n",
    "\n",
    "df = df.groupby('pl_name', as_index=False).agg(aggregation_functions)\n",
    "print(\"Unificación de registros completada. Tamaño actual:\", df.shape)\n",
    "\n",
    "# Mostrar ejemplos después de la unificación\n",
    "print(\"Ejemplos después de la unificación:\")\n",
    "print(df.head(3))"
   ],
   "id": "34967494664bc371",
   "outputs": [
    {
     "name": "stdout",
     "output_type": "stream",
     "text": [
      "Ejemplos antes de la unificación:\n",
      "    pl_name hostname  pl_orbper  pl_orbsmax  pl_orbeccen  pl_rade   pl_bmasse  \\\n",
      "0  11 Com b   11 Com  326.03000       1.290        0.231      NaN  6165.60000   \n",
      "1  11 Com b   11 Com        NaN       1.210          NaN      NaN  5434.70000   \n",
      "2  11 Com b   11 Com  323.21000       1.178        0.238      NaN  4914.89849   \n",
      "3  11 UMi b   11 UMi  516.21997       1.530        0.080      NaN  4684.81420   \n",
      "4  11 UMi b   11 UMi  516.22000       1.540        0.080      NaN  3337.07000   \n",
      "5  11 UMi b   11 UMi        NaN       1.510          NaN      NaN  3432.40000   \n",
      "\n",
      "   pl_insol  pl_eqt  st_teff  st_rad  st_mass  st_met  discoverymethod  \\\n",
      "0       NaN     NaN   4742.0   19.00     2.70   -0.35  Radial Velocity   \n",
      "1       NaN     NaN      NaN     NaN     2.60     NaN  Radial Velocity   \n",
      "2       NaN     NaN   4874.0   13.76     2.09   -0.26  Radial Velocity   \n",
      "3       NaN     NaN   4213.0   29.79     2.78   -0.02  Radial Velocity   \n",
      "4       NaN     NaN   4340.0   24.08     1.80    0.04  Radial Velocity   \n",
      "5       NaN     NaN      NaN     NaN     1.70     NaN  Radial Velocity   \n",
      "\n",
      "   disc_year                                         pl_refname  \n",
      "0       2007  <a refstr=LIU_ET_AL__2008 href=https://ui.adsa...  \n",
      "1       2007  <a refstr=KUNITOMO_ET_AL__2011 href=https://ui...  \n",
      "2       2007  <a refstr=TENG_ET_AL__2023 href=https://ui.ads...  \n",
      "3       2009  <a refstr=STASSUN_ET_AL__2017 href=https://ui....  \n",
      "4       2009  <a refstr=DOLLINGER_ET_AL__2009 href=https://u...  \n",
      "5       2009  <a refstr=KUNITOMO_ET_AL__2011 href=https://ui...  \n",
      "Unificación de registros completada. Tamaño actual: (5834, 16)\n",
      "Ejemplos después de la unificación:\n",
      "    pl_name hostname   pl_orbper  pl_orbsmax  pl_orbeccen  pl_rade  \\\n",
      "0  11 Com b   11 Com  324.620000    1.226000       0.2345      NaN   \n",
      "1  11 UMi b   11 UMi  516.219985    1.526667       0.0800      NaN   \n",
      "2  14 And b   14 And  186.300000    0.761667       0.0000      NaN   \n",
      "\n",
      "     pl_bmasse  pl_insol  pl_eqt  st_teff  st_rad   st_mass  st_met  \\\n",
      "0  5505.066163       NaN     NaN   4808.0  16.380  2.463333  -0.305   \n",
      "1  3818.094733       NaN     NaN   4276.5  26.935  2.093333   0.010   \n",
      "2  1224.550433       NaN     NaN   4850.5  11.275  1.726667  -0.225   \n",
      "\n",
      "   discoverymethod  disc_year  \\\n",
      "0  Radial Velocity       2007   \n",
      "1  Radial Velocity       2009   \n",
      "2  Radial Velocity       2008   \n",
      "\n",
      "                                          pl_refname  \n",
      "0  <a refstr=LIU_ET_AL__2008 href=https://ui.adsa...  \n",
      "1  <a refstr=STASSUN_ET_AL__2017 href=https://ui....  \n",
      "2  <a refstr=SATO_ET_AL__2008 href=https://ui.ads...  \n"
     ]
    }
   ],
   "execution_count": 12
  },
  {
   "metadata": {
    "ExecuteTime": {
     "end_time": "2025-02-21T15:15:03.477916Z",
     "start_time": "2025-02-21T15:15:03.431422Z"
    }
   },
   "cell_type": "code",
   "source": [
    "\n",
    "# Filtrar exoplanetas con datos clave\n",
    "required_columns = ['pl_bmasse', 'pl_eqt', 'pl_insol', 'pl_orbsmax', 'st_teff', 'st_rad']\n",
    "df = df.dropna(subset=required_columns)\n",
    "print(\"Filtrado de exoplanetas con datos esenciales completado. Tamaño actual:\", df.shape)\n",
    "\n",
    "# Mostrar información completa de algunos planetas tras encontrar planetas con info completa\n",
    "print(\"Ejemplos de planetas con información completa tras encontrar planetas con info completa:\")\n",
    "print(df.sample(3))"
   ],
   "id": "6e609ace5415399",
   "outputs": [
    {
     "name": "stdout",
     "output_type": "stream",
     "text": [
      "Filtrado de exoplanetas con datos esenciales completado. Tamaño actual: (1382, 16)\n",
      "Ejemplos de planetas con información completa tras encontrar planetas con info completa:\n",
      "         pl_name  hostname  pl_orbper  pl_orbsmax  pl_orbeccen   pl_rade  \\\n",
      "5084   TOI-125 d   TOI-125  19.980785    0.137000        0.168   2.73850   \n",
      "5437   TOI-519 b   TOI-519   1.265233    0.014793        0.189  11.83325   \n",
      "5228  TOI-2015 b  TOI-2015   3.349054    0.030100        0.000   4.38350   \n",
      "\n",
      "        pl_bmasse  pl_insol  pl_eqt  st_teff  st_rad  st_mass  st_met  \\\n",
      "5084    13.600000    21.645   600.0  5237.00   0.850     0.86 -0.0200   \n",
      "5437  1587.878153    53.995   723.0  3312.75   0.360     0.36  0.2675   \n",
      "5228    16.400000    21.245   584.5  3208.50   0.325     0.34  0.0500   \n",
      "\n",
      "     discoverymethod  disc_year  \\\n",
      "5084         Transit       2020   \n",
      "5437         Transit       2021   \n",
      "5228         Transit       2023   \n",
      "\n",
      "                                             pl_refname  \n",
      "5084  <a refstr=EXOFOP_TESS_TOI href=https://exofop....  \n",
      "5437  <a refstr=HARTMAN_ET_AL__2023 href=https://ui....  \n",
      "5228  <a refstr=JONES_ET_AL__2023 href=https://ui.ad...  \n"
     ]
    }
   ],
   "execution_count": 13
  },
  {
   "metadata": {
    "collapsed": true,
    "ExecuteTime": {
     "end_time": "2025-02-21T15:16:11.274518Z",
     "start_time": "2025-02-21T15:16:11.244164Z"
    }
   },
   "cell_type": "code",
   "source": [
    "\n",
    "# Normalizar nombres de columnas\n",
    "df.columns = df.columns.str.strip().str.lower().str.replace(' ', '_')\n",
    "print(\"Normalización de nombres de columnas completada.\")\n",
    "\n",
    "# Filtrar planetas en zona habitable aproximada\n",
    "def is_habitable(row):\n",
    "    L = (row['st_teff'] / 5778)**4 * (row['st_rad'] / 1.0)**2\n",
    "    inner_bound = np.sqrt(L / 1.1)  # Límite interno de zona habitable\n",
    "    outer_bound = np.sqrt(L / 0.53)  # Límite externo de zona habitable\n",
    "    return inner_bound <= row['pl_orbsmax'] <= outer_bound\n",
    "\n",
    "df['habitable_zone'] = df.apply(is_habitable, axis=1)\n",
    "df = df[df['habitable_zone']]\n",
    "print(\"Filtrado de exoplanetas en zona habitable completado. Tamaño actual:\", df.shape)\n",
    "\n",
    "# Guardar dataset limpio\n",
    "df.to_csv(\"cleaned_exoplanets.csv\", index=False)\n",
    "print(\"Preprocesamiento completado. Datos guardados en 'cleaned_exoplanets.csv'.\")\n"
   ],
   "id": "initial_id",
   "outputs": [
    {
     "name": "stdout",
     "output_type": "stream",
     "text": [
      "Normalización de nombres de columnas completada.\n",
      "Filtrado de exoplanetas en zona habitable completado. Tamaño actual: (15, 17)\n",
      "Preprocesamiento completado. Datos guardados en 'cleaned_exoplanets.csv'.\n"
     ]
    }
   ],
   "execution_count": 17
  },
  {
   "metadata": {},
   "cell_type": "code",
   "outputs": [],
   "execution_count": null,
   "source": "",
   "id": "8e6b81664ac374cc"
  }
 ],
 "metadata": {
  "kernelspec": {
   "display_name": "Python 3",
   "language": "python",
   "name": "python3"
  },
  "language_info": {
   "codemirror_mode": {
    "name": "ipython",
    "version": 2
   },
   "file_extension": ".py",
   "mimetype": "text/x-python",
   "name": "python",
   "nbconvert_exporter": "python",
   "pygments_lexer": "ipython2",
   "version": "2.7.6"
  }
 },
 "nbformat": 4,
 "nbformat_minor": 5
}
